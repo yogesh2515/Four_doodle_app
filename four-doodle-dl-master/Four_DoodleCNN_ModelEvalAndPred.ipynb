{
  "nbformat": 4,
  "nbformat_minor": 0,
  "metadata": {
    "colab": {
      "name": "Four_DoodleCNN_ModelEvalAndPred.ipynb",
      "provenance": []
    },
    "kernelspec": {
      "name": "python3",
      "display_name": "Python 3"
    }
  },
  "cells": [
    {
      "cell_type": "markdown",
      "metadata": {
        "id": "RwCFLzwgludj",
        "colab_type": "text"
      },
      "source": [
        "# # This file contains a subset of the quick draw classes."
      ]
    },
    {
      "cell_type": "code",
      "metadata": {
        "id": "_3anSvXolcBF",
        "colab_type": "code",
        "colab": {
          "base_uri": "https://localhost:8080/",
          "height": 202
        },
        "outputId": "bd5824f5-6ff2-4df6-8536-45c6cb5da803"
      },
      "source": [
        "!wget 'https://raw.githubusercontent.com/zaidalyafeai/zaidalyafeai.github.io/master/sketcher/mini_classes.txt'"
      ],
      "execution_count": 2,
      "outputs": [
        {
          "output_type": "stream",
          "text": [
            "--2020-03-06 20:44:46--  https://raw.githubusercontent.com/zaidalyafeai/zaidalyafeai.github.io/master/sketcher/mini_classes.txt\n",
            "Resolving raw.githubusercontent.com (raw.githubusercontent.com)... 151.101.0.133, 151.101.64.133, 151.101.128.133, ...\n",
            "Connecting to raw.githubusercontent.com (raw.githubusercontent.com)|151.101.0.133|:443... connected.\n",
            "HTTP request sent, awaiting response... 200 OK\n",
            "Length: 760 [text/plain]\n",
            "Saving to: ‘mini_classes.txt’\n",
            "\n",
            "\rmini_classes.txt      0%[                    ]       0  --.-KB/s               \rmini_classes.txt    100%[===================>]     760  --.-KB/s    in 0s      \n",
            "\n",
            "2020-03-06 20:44:46 (113 MB/s) - ‘mini_classes.txt’ saved [760/760]\n",
            "\n"
          ],
          "name": "stdout"
        }
      ]
    },
    {
      "cell_type": "markdown",
      "metadata": {
        "id": "ksJlCESimEgs",
        "colab_type": "text"
      },
      "source": [
        "# Read the classes names "
      ]
    },
    {
      "cell_type": "code",
      "metadata": {
        "id": "zM_AKToymBFC",
        "colab_type": "code",
        "colab": {}
      },
      "source": [
        "f = open(\"mini_classes.txt\",\"r\")\n",
        "# And for reading use\n",
        "classes = f.readlines()\n",
        "f.close()"
      ],
      "execution_count": 0,
      "outputs": []
    },
    {
      "cell_type": "code",
      "metadata": {
        "id": "JjTl6zYXmELw",
        "colab_type": "code",
        "colab": {}
      },
      "source": [
        "classes = [c.replace('\\n','').replace(' ','_') for c in classes]"
      ],
      "execution_count": 0,
      "outputs": []
    },
    {
      "cell_type": "markdown",
      "metadata": {
        "id": "HK2KpsO0mO8Z",
        "colab_type": "text"
      },
      "source": [
        "# Download the Dataset "
      ]
    },
    {
      "cell_type": "markdown",
      "metadata": {
        "id": "LSi146k8mXhR",
        "colab_type": "text"
      },
      "source": [
        "Loop over the classes and download the currospondent data"
      ]
    },
    {
      "cell_type": "code",
      "metadata": {
        "id": "pcO2loKVmL5f",
        "colab_type": "code",
        "colab": {}
      },
      "source": [
        "!mkdir data"
      ],
      "execution_count": 0,
      "outputs": []
    },
    {
      "cell_type": "code",
      "metadata": {
        "id": "0n8HCOIImcDy",
        "colab_type": "code",
        "colab": {}
      },
      "source": [
        "import urllib.request\n",
        "def download():\n",
        "  \n",
        "  base = 'https://storage.googleapis.com/quickdraw_dataset/full/numpy_bitmap/'\n",
        "  for c in classes:\n",
        "    cls_url = c.replace('_', '%20')\n",
        "    path = base+cls_url+'.npy'\n",
        "    print(path)\n",
        "    urllib.request.urlretrieve(path, 'data/'+c+'.npy')"
      ],
      "execution_count": 0,
      "outputs": []
    },
    {
      "cell_type": "code",
      "metadata": {
        "id": "m_TMz_tumfF-",
        "colab_type": "code",
        "colab": {
          "base_uri": "https://localhost:8080/",
          "height": 1000
        },
        "outputId": "d287c773-78c5-4948-86ff-13c4157e0a3f"
      },
      "source": [
        "download() "
      ],
      "execution_count": 7,
      "outputs": [
        {
          "output_type": "stream",
          "text": [
            "https://storage.googleapis.com/quickdraw_dataset/full/numpy_bitmap/drums.npy\n",
            "https://storage.googleapis.com/quickdraw_dataset/full/numpy_bitmap/sun.npy\n",
            "https://storage.googleapis.com/quickdraw_dataset/full/numpy_bitmap/laptop.npy\n",
            "https://storage.googleapis.com/quickdraw_dataset/full/numpy_bitmap/anvil.npy\n",
            "https://storage.googleapis.com/quickdraw_dataset/full/numpy_bitmap/baseball%20bat.npy\n",
            "https://storage.googleapis.com/quickdraw_dataset/full/numpy_bitmap/ladder.npy\n",
            "https://storage.googleapis.com/quickdraw_dataset/full/numpy_bitmap/eyeglasses.npy\n",
            "https://storage.googleapis.com/quickdraw_dataset/full/numpy_bitmap/grapes.npy\n",
            "https://storage.googleapis.com/quickdraw_dataset/full/numpy_bitmap/book.npy\n",
            "https://storage.googleapis.com/quickdraw_dataset/full/numpy_bitmap/dumbbell.npy\n",
            "https://storage.googleapis.com/quickdraw_dataset/full/numpy_bitmap/traffic%20light.npy\n",
            "https://storage.googleapis.com/quickdraw_dataset/full/numpy_bitmap/wristwatch.npy\n",
            "https://storage.googleapis.com/quickdraw_dataset/full/numpy_bitmap/wheel.npy\n",
            "https://storage.googleapis.com/quickdraw_dataset/full/numpy_bitmap/shovel.npy\n",
            "https://storage.googleapis.com/quickdraw_dataset/full/numpy_bitmap/bread.npy\n",
            "https://storage.googleapis.com/quickdraw_dataset/full/numpy_bitmap/table.npy\n",
            "https://storage.googleapis.com/quickdraw_dataset/full/numpy_bitmap/tennis%20racquet.npy\n",
            "https://storage.googleapis.com/quickdraw_dataset/full/numpy_bitmap/cloud.npy\n",
            "https://storage.googleapis.com/quickdraw_dataset/full/numpy_bitmap/chair.npy\n",
            "https://storage.googleapis.com/quickdraw_dataset/full/numpy_bitmap/headphones.npy\n",
            "https://storage.googleapis.com/quickdraw_dataset/full/numpy_bitmap/face.npy\n",
            "https://storage.googleapis.com/quickdraw_dataset/full/numpy_bitmap/eye.npy\n",
            "https://storage.googleapis.com/quickdraw_dataset/full/numpy_bitmap/airplane.npy\n",
            "https://storage.googleapis.com/quickdraw_dataset/full/numpy_bitmap/snake.npy\n",
            "https://storage.googleapis.com/quickdraw_dataset/full/numpy_bitmap/lollipop.npy\n",
            "https://storage.googleapis.com/quickdraw_dataset/full/numpy_bitmap/power%20outlet.npy\n",
            "https://storage.googleapis.com/quickdraw_dataset/full/numpy_bitmap/pants.npy\n",
            "https://storage.googleapis.com/quickdraw_dataset/full/numpy_bitmap/mushroom.npy\n",
            "https://storage.googleapis.com/quickdraw_dataset/full/numpy_bitmap/star.npy\n",
            "https://storage.googleapis.com/quickdraw_dataset/full/numpy_bitmap/sword.npy\n",
            "https://storage.googleapis.com/quickdraw_dataset/full/numpy_bitmap/clock.npy\n",
            "https://storage.googleapis.com/quickdraw_dataset/full/numpy_bitmap/hot%20dog.npy\n",
            "https://storage.googleapis.com/quickdraw_dataset/full/numpy_bitmap/syringe.npy\n",
            "https://storage.googleapis.com/quickdraw_dataset/full/numpy_bitmap/stop%20sign.npy\n",
            "https://storage.googleapis.com/quickdraw_dataset/full/numpy_bitmap/mountain.npy\n",
            "https://storage.googleapis.com/quickdraw_dataset/full/numpy_bitmap/smiley%20face.npy\n",
            "https://storage.googleapis.com/quickdraw_dataset/full/numpy_bitmap/apple.npy\n",
            "https://storage.googleapis.com/quickdraw_dataset/full/numpy_bitmap/bed.npy\n",
            "https://storage.googleapis.com/quickdraw_dataset/full/numpy_bitmap/shorts.npy\n",
            "https://storage.googleapis.com/quickdraw_dataset/full/numpy_bitmap/broom.npy\n",
            "https://storage.googleapis.com/quickdraw_dataset/full/numpy_bitmap/diving%20board.npy\n",
            "https://storage.googleapis.com/quickdraw_dataset/full/numpy_bitmap/flower.npy\n",
            "https://storage.googleapis.com/quickdraw_dataset/full/numpy_bitmap/spider.npy\n",
            "https://storage.googleapis.com/quickdraw_dataset/full/numpy_bitmap/cell%20phone.npy\n",
            "https://storage.googleapis.com/quickdraw_dataset/full/numpy_bitmap/car.npy\n",
            "https://storage.googleapis.com/quickdraw_dataset/full/numpy_bitmap/camera.npy\n",
            "https://storage.googleapis.com/quickdraw_dataset/full/numpy_bitmap/tree.npy\n",
            "https://storage.googleapis.com/quickdraw_dataset/full/numpy_bitmap/square.npy\n",
            "https://storage.googleapis.com/quickdraw_dataset/full/numpy_bitmap/moon.npy\n",
            "https://storage.googleapis.com/quickdraw_dataset/full/numpy_bitmap/radio.npy\n",
            "https://storage.googleapis.com/quickdraw_dataset/full/numpy_bitmap/hat.npy\n",
            "https://storage.googleapis.com/quickdraw_dataset/full/numpy_bitmap/pizza.npy\n",
            "https://storage.googleapis.com/quickdraw_dataset/full/numpy_bitmap/axe.npy\n",
            "https://storage.googleapis.com/quickdraw_dataset/full/numpy_bitmap/door.npy\n",
            "https://storage.googleapis.com/quickdraw_dataset/full/numpy_bitmap/tent.npy\n",
            "https://storage.googleapis.com/quickdraw_dataset/full/numpy_bitmap/umbrella.npy\n",
            "https://storage.googleapis.com/quickdraw_dataset/full/numpy_bitmap/line.npy\n",
            "https://storage.googleapis.com/quickdraw_dataset/full/numpy_bitmap/cup.npy\n",
            "https://storage.googleapis.com/quickdraw_dataset/full/numpy_bitmap/fan.npy\n",
            "https://storage.googleapis.com/quickdraw_dataset/full/numpy_bitmap/triangle.npy\n",
            "https://storage.googleapis.com/quickdraw_dataset/full/numpy_bitmap/basketball.npy\n",
            "https://storage.googleapis.com/quickdraw_dataset/full/numpy_bitmap/pillow.npy\n",
            "https://storage.googleapis.com/quickdraw_dataset/full/numpy_bitmap/scissors.npy\n",
            "https://storage.googleapis.com/quickdraw_dataset/full/numpy_bitmap/t-shirt.npy\n",
            "https://storage.googleapis.com/quickdraw_dataset/full/numpy_bitmap/tooth.npy\n",
            "https://storage.googleapis.com/quickdraw_dataset/full/numpy_bitmap/alarm%20clock.npy\n",
            "https://storage.googleapis.com/quickdraw_dataset/full/numpy_bitmap/paper%20clip.npy\n",
            "https://storage.googleapis.com/quickdraw_dataset/full/numpy_bitmap/spoon.npy\n",
            "https://storage.googleapis.com/quickdraw_dataset/full/numpy_bitmap/microphone.npy\n",
            "https://storage.googleapis.com/quickdraw_dataset/full/numpy_bitmap/candle.npy\n",
            "https://storage.googleapis.com/quickdraw_dataset/full/numpy_bitmap/pencil.npy\n",
            "https://storage.googleapis.com/quickdraw_dataset/full/numpy_bitmap/envelope.npy\n",
            "https://storage.googleapis.com/quickdraw_dataset/full/numpy_bitmap/saw.npy\n",
            "https://storage.googleapis.com/quickdraw_dataset/full/numpy_bitmap/frying%20pan.npy\n",
            "https://storage.googleapis.com/quickdraw_dataset/full/numpy_bitmap/screwdriver.npy\n",
            "https://storage.googleapis.com/quickdraw_dataset/full/numpy_bitmap/helmet.npy\n",
            "https://storage.googleapis.com/quickdraw_dataset/full/numpy_bitmap/bridge.npy\n",
            "https://storage.googleapis.com/quickdraw_dataset/full/numpy_bitmap/light%20bulb.npy\n",
            "https://storage.googleapis.com/quickdraw_dataset/full/numpy_bitmap/ceiling%20fan.npy\n",
            "https://storage.googleapis.com/quickdraw_dataset/full/numpy_bitmap/key.npy\n",
            "https://storage.googleapis.com/quickdraw_dataset/full/numpy_bitmap/donut.npy\n",
            "https://storage.googleapis.com/quickdraw_dataset/full/numpy_bitmap/bird.npy\n",
            "https://storage.googleapis.com/quickdraw_dataset/full/numpy_bitmap/circle.npy\n",
            "https://storage.googleapis.com/quickdraw_dataset/full/numpy_bitmap/beard.npy\n",
            "https://storage.googleapis.com/quickdraw_dataset/full/numpy_bitmap/coffee%20cup.npy\n",
            "https://storage.googleapis.com/quickdraw_dataset/full/numpy_bitmap/butterfly.npy\n",
            "https://storage.googleapis.com/quickdraw_dataset/full/numpy_bitmap/bench.npy\n",
            "https://storage.googleapis.com/quickdraw_dataset/full/numpy_bitmap/rifle.npy\n",
            "https://storage.googleapis.com/quickdraw_dataset/full/numpy_bitmap/cat.npy\n",
            "https://storage.googleapis.com/quickdraw_dataset/full/numpy_bitmap/sock.npy\n",
            "https://storage.googleapis.com/quickdraw_dataset/full/numpy_bitmap/ice%20cream.npy\n",
            "https://storage.googleapis.com/quickdraw_dataset/full/numpy_bitmap/moustache.npy\n",
            "https://storage.googleapis.com/quickdraw_dataset/full/numpy_bitmap/suitcase.npy\n",
            "https://storage.googleapis.com/quickdraw_dataset/full/numpy_bitmap/hammer.npy\n",
            "https://storage.googleapis.com/quickdraw_dataset/full/numpy_bitmap/rainbow.npy\n",
            "https://storage.googleapis.com/quickdraw_dataset/full/numpy_bitmap/knife.npy\n",
            "https://storage.googleapis.com/quickdraw_dataset/full/numpy_bitmap/cookie.npy\n",
            "https://storage.googleapis.com/quickdraw_dataset/full/numpy_bitmap/baseball.npy\n",
            "https://storage.googleapis.com/quickdraw_dataset/full/numpy_bitmap/lightning.npy\n",
            "https://storage.googleapis.com/quickdraw_dataset/full/numpy_bitmap/bicycle.npy\n"
          ],
          "name": "stdout"
        }
      ]
    },
    {
      "cell_type": "markdown",
      "metadata": {
        "id": "HjkKx8o0mlPd",
        "colab_type": "text"
      },
      "source": [
        "# Imports"
      ]
    },
    {
      "cell_type": "code",
      "metadata": {
        "id": "qqvsqbcJmhpB",
        "colab_type": "code",
        "colab": {
          "base_uri": "https://localhost:8080/",
          "height": 62
        },
        "outputId": "54dca5e8-356b-47c3-ec6d-8cc8b8b2f319"
      },
      "source": [
        "import os\n",
        "import glob\n",
        "import numpy as np\n",
        "from tensorflow.keras import layers\n",
        "from tensorflow import keras \n",
        "import tensorflow as tf\n",
        "\n",
        "import matplotlib.pyplot as plt\n",
        "from random import randint\n",
        "%matplotlib inline "
      ],
      "execution_count": 8,
      "outputs": [
        {
          "output_type": "display_data",
          "data": {
            "text/html": [
              "<p style=\"color: red;\">\n",
              "The default version of TensorFlow in Colab will soon switch to TensorFlow 2.x.<br>\n",
              "We recommend you <a href=\"https://www.tensorflow.org/guide/migrate\" target=\"_blank\">upgrade</a> now \n",
              "or ensure your notebook will continue to use TensorFlow 1.x via the <code>%tensorflow_version 1.x</code> magic:\n",
              "<a href=\"https://colab.research.google.com/notebooks/tensorflow_version.ipynb\" target=\"_blank\">more info</a>.</p>\n"
            ],
            "text/plain": [
              "<IPython.core.display.HTML object>"
            ]
          },
          "metadata": {
            "tags": []
          }
        }
      ]
    },
    {
      "cell_type": "markdown",
      "metadata": {
        "id": "MnU1--inm11x",
        "colab_type": "text"
      },
      "source": [
        "# # Load the Data "
      ]
    },
    {
      "cell_type": "markdown",
      "metadata": {
        "id": "Ju2yc3i1m6Nv",
        "colab_type": "text"
      },
      "source": [
        "Each class contains different number samples of arrays stored as .npy format. Since we have some memory limitations we only load 5000 images per class.  "
      ]
    },
    {
      "cell_type": "code",
      "metadata": {
        "id": "6JMIB4QOm1HD",
        "colab_type": "code",
        "colab": {}
      },
      "source": [
        "def load_data(root, vfold_ratio=0.2, max_items_per_class= 4000 ):\n",
        "    all_files = glob.glob(os.path.join(root, '*.npy'))\n",
        "\n",
        "    #initialize variables \n",
        "    x = np.empty([0, 784])\n",
        "    y = np.empty([0])\n",
        "    class_names = []\n",
        "\n",
        "    #load each data file \n",
        "    for idx, file in enumerate(all_files):\n",
        "        data = np.load(file)\n",
        "        data = data[0: max_items_per_class, :]\n",
        "        labels = np.full(data.shape[0], idx)\n",
        "\n",
        "        x = np.concatenate((x, data), axis=0)\n",
        "        y = np.append(y, labels)\n",
        "\n",
        "        class_name, ext = os.path.splitext(os.path.basename(file))\n",
        "        class_names.append(class_name)\n",
        "\n",
        "    data = None\n",
        "    labels = None\n",
        "    \n",
        "    #randomize the dataset \n",
        "    permutation = np.random.permutation(y.shape[0])\n",
        "    x = x[permutation, :]\n",
        "    y = y[permutation]\n",
        "\n",
        "    #separate into training and testing \n",
        "    vfold_size = int(x.shape[0]/100*(vfold_ratio*100))\n",
        "\n",
        "    x_test = x[0:vfold_size, :]\n",
        "    y_test = y[0:vfold_size]\n",
        "\n",
        "    x_train = x[vfold_size:x.shape[0], :]\n",
        "    y_train = y[vfold_size:y.shape[0]]\n",
        "    return x_train, y_train, x_test, y_test, class_names"
      ],
      "execution_count": 0,
      "outputs": []
    },
    {
      "cell_type": "code",
      "metadata": {
        "id": "SQXwcX7GnAEb",
        "colab_type": "code",
        "colab": {}
      },
      "source": [
        "x_train, y_train, x_test, y_test, class_names = load_data('data')\n",
        "num_classes = len(class_names)\n",
        "image_size = 28"
      ],
      "execution_count": 0,
      "outputs": []
    },
    {
      "cell_type": "code",
      "metadata": {
        "id": "M_tOp6rpnCSR",
        "colab_type": "code",
        "colab": {
          "base_uri": "https://localhost:8080/",
          "height": 34
        },
        "outputId": "ae083119-50d0-4121-b80a-78a804c32873"
      },
      "source": [
        "print(len(x_train))"
      ],
      "execution_count": 11,
      "outputs": [
        {
          "output_type": "stream",
          "text": [
            "320000\n"
          ],
          "name": "stdout"
        }
      ]
    },
    {
      "cell_type": "markdown",
      "metadata": {
        "id": "KoLPG19xnGyA",
        "colab_type": "text"
      },
      "source": [
        "Some random data"
      ]
    },
    {
      "cell_type": "code",
      "metadata": {
        "id": "wAFPe4AynEQ4",
        "colab_type": "code",
        "colab": {
          "base_uri": "https://localhost:8080/",
          "height": 282
        },
        "outputId": "9f228c93-a028-4793-8903-32819e4e7ea9"
      },
      "source": [
        "idx = randint(0, len(x_train))\n",
        "plt.imshow(x_train[idx].reshape(28,28)) \n",
        "print(class_names[int(y_train[idx].item())])"
      ],
      "execution_count": 12,
      "outputs": [
        {
          "output_type": "stream",
          "text": [
            "ladder\n"
          ],
          "name": "stdout"
        },
        {
          "output_type": "display_data",
          "data": {
            "image/png": "[encoded data removed]",
            "text/plain": [
              "<Figure size 432x288 with 1 Axes>"
            ]
          },
          "metadata": {
            "tags": []
          }
        }
      ]
    },
    {
      "cell_type": "markdown",
      "metadata": {
        "id": "x_oCU_t8nOoe",
        "colab_type": "text"
      },
      "source": [
        "# Preprocess the Data"
      ]
    },
    {
      "cell_type": "code",
      "metadata": {
        "id": "wlscRCaonLdQ",
        "colab_type": "code",
        "colab": {}
      },
      "source": [
        "# Reshape and normalize\n",
        "x_train = x_train.reshape(x_train.shape[0], image_size, image_size, 1).astype('float32')\n",
        "x_test = x_test.reshape(x_test.shape[0], image_size, image_size, 1).astype('float32')\n",
        "\n",
        "x_train /= 255.0\n",
        "x_test /= 255.0\n",
        "\n",
        "# Convert class vectors to class matrices\n",
        "y_train = keras.utils.to_categorical(y_train, num_classes)\n",
        "y_test = keras.utils.to_categorical(y_test, num_classes)"
      ],
      "execution_count": 0,
      "outputs": []
    },
    {
      "cell_type": "markdown",
      "metadata": {
        "id": "0mjgQe4zoAhw",
        "colab_type": "text"
      },
      "source": [
        "# The Model"
      ]
    },
    {
      "cell_type": "code",
      "metadata": {
        "id": "0Umb0ZpUnSgd",
        "colab_type": "code",
        "colab": {}
      },
      "source": [
        "# Define model\n",
        "\n",
        "def model():\n",
        "  model = keras.Sequential()\n",
        "  model.add(layers.Convolution2D(16, (3, 3),\n",
        "                          padding='same',\n",
        "                          input_shape=x_train.shape[1:], activation='relu'))\n",
        "  model.add(layers.MaxPooling2D(pool_size=(2, 2)))\n",
        "  model.add(layers.Convolution2D(32, (3, 3), padding='same', activation= 'relu'))\n",
        "  model.add(layers.MaxPooling2D(pool_size=(2, 2)))\n",
        "  model.add(layers.Convolution2D(64, (3, 3), padding='same', activation= 'relu'))\n",
        "  model.add(layers.MaxPooling2D(pool_size =(2,2)))\n",
        "  model.add(layers.Flatten())\n",
        "  model.add(layers.Dense(128, activation='relu'))\n",
        "  model.add(layers.Dense(100, activation='softmax')) \n",
        "  # Train model\n",
        "  adam = tf.train.AdamOptimizer()\n",
        "  model.compile(loss='categorical_crossentropy',\n",
        "                optimizer=adam,\n",
        "                metrics=['top_k_categorical_accuracy'])\n",
        "  print(model.summary())\n",
        "\n",
        "  return model"
      ],
      "execution_count": 0,
      "outputs": []
    },
    {
      "cell_type": "code",
      "metadata": {
        "id": "LAFnafjNoTFd",
        "colab_type": "code",
        "colab": {
          "base_uri": "https://localhost:8080/",
          "height": 470
        },
        "outputId": "5d2073f9-7ada-4cfe-f413-ca5d38643197"
      },
      "source": [
        "model = model()"
      ],
      "execution_count": 17,
      "outputs": [
        {
          "output_type": "stream",
          "text": [
            "Model: \"sequential_1\"\n",
            "_________________________________________________________________\n",
            "Layer (type)                 Output Shape              Param #   \n",
            "=================================================================\n",
            "conv2d_3 (Conv2D)            (None, 28, 28, 16)        160       \n",
            "_________________________________________________________________\n",
            "max_pooling2d_3 (MaxPooling2 (None, 14, 14, 16)        0         \n",
            "_________________________________________________________________\n",
            "conv2d_4 (Conv2D)            (None, 14, 14, 32)        4640      \n",
            "_________________________________________________________________\n",
            "max_pooling2d_4 (MaxPooling2 (None, 7, 7, 32)          0         \n",
            "_________________________________________________________________\n",
            "conv2d_5 (Conv2D)            (None, 7, 7, 64)          18496     \n",
            "_________________________________________________________________\n",
            "max_pooling2d_5 (MaxPooling2 (None, 3, 3, 64)          0         \n",
            "_________________________________________________________________\n",
            "flatten_1 (Flatten)          (None, 576)               0         \n",
            "_________________________________________________________________\n",
            "dense_2 (Dense)              (None, 128)               73856     \n",
            "_________________________________________________________________\n",
            "dense_3 (Dense)              (None, 100)               12900     \n",
            "=================================================================\n",
            "Total params: 110,052\n",
            "Trainable params: 110,052\n",
            "Non-trainable params: 0\n",
            "_________________________________________________________________\n",
            "None\n"
          ],
          "name": "stdout"
        }
      ]
    },
    {
      "cell_type": "markdown",
      "metadata": {
        "id": "gMzR-u8pofNf",
        "colab_type": "text"
      },
      "source": [
        "# Training"
      ]
    },
    {
      "cell_type": "code",
      "metadata": {
        "id": "zVeO4l6LoZhy",
        "colab_type": "code",
        "colab": {
          "base_uri": "https://localhost:8080/",
          "height": 1000
        },
        "outputId": "b9c88741-5db0-4952-fc36-68c9038a4e7e"
      },
      "source": [
        "history = model.fit(x = x_train, y = y_train, validation_split=0.1, batch_size = 256, verbose=1, epochs=30)"
      ],
      "execution_count": 21,
      "outputs": [
        {
          "output_type": "stream",
          "text": [
            "Train on 288000 samples, validate on 32000 samples\n",
            "Epoch 1/30\n",
            "288000/288000 [==============================] - 211s 732us/sample - loss: 1.3345 - top_k_categorical_accuracy: 0.8823 - val_loss: 1.2235 - val_top_k_categorical_accuracy: 0.8947\n",
            "Epoch 2/30\n",
            "288000/288000 [==============================] - 212s 735us/sample - loss: 1.1184 - top_k_categorical_accuracy: 0.9074 - val_loss: 1.1096 - val_top_k_categorical_accuracy: 0.9088\n",
            "Epoch 3/30\n",
            "288000/288000 [==============================] - 211s 733us/sample - loss: 1.0139 - top_k_categorical_accuracy: 0.9176 - val_loss: 1.0243 - val_top_k_categorical_accuracy: 0.9155\n",
            "Epoch 4/30\n",
            "288000/288000 [==============================] - 211s 731us/sample - loss: 0.9463 - top_k_categorical_accuracy: 0.9245 - val_loss: 1.0056 - val_top_k_categorical_accuracy: 0.9171\n",
            "Epoch 5/30\n",
            "288000/288000 [==============================] - 211s 732us/sample - loss: 0.8972 - top_k_categorical_accuracy: 0.9293 - val_loss: 0.9542 - val_top_k_categorical_accuracy: 0.9228\n",
            "Epoch 6/30\n",
            "288000/288000 [==============================] - 210s 729us/sample - loss: 0.8581 - top_k_categorical_accuracy: 0.9330 - val_loss: 0.9261 - val_top_k_categorical_accuracy: 0.9251\n",
            "Epoch 7/30\n",
            "288000/288000 [==============================] - 210s 730us/sample - loss: 0.8286 - top_k_categorical_accuracy: 0.9361 - val_loss: 0.9198 - val_top_k_categorical_accuracy: 0.9265\n",
            "Epoch 8/30\n",
            "288000/288000 [==============================] - 211s 733us/sample - loss: 0.8015 - top_k_categorical_accuracy: 0.9381 - val_loss: 0.9016 - val_top_k_categorical_accuracy: 0.9277\n",
            "Epoch 9/30\n",
            "288000/288000 [==============================] - 210s 731us/sample - loss: 0.7805 - top_k_categorical_accuracy: 0.9406 - val_loss: 0.8827 - val_top_k_categorical_accuracy: 0.9297\n",
            "Epoch 10/30\n",
            "288000/288000 [==============================] - 212s 736us/sample - loss: 0.7624 - top_k_categorical_accuracy: 0.9424 - val_loss: 0.8755 - val_top_k_categorical_accuracy: 0.9307\n",
            "Epoch 11/30\n",
            "288000/288000 [==============================] - 212s 734us/sample - loss: 0.7451 - top_k_categorical_accuracy: 0.9437 - val_loss: 0.8822 - val_top_k_categorical_accuracy: 0.9300\n",
            "Epoch 12/30\n",
            "288000/288000 [==============================] - 217s 754us/sample - loss: 0.7303 - top_k_categorical_accuracy: 0.9451 - val_loss: 0.8757 - val_top_k_categorical_accuracy: 0.9293\n",
            "Epoch 13/30\n",
            "288000/288000 [==============================] - 212s 736us/sample - loss: 0.7159 - top_k_categorical_accuracy: 0.9465 - val_loss: 0.8606 - val_top_k_categorical_accuracy: 0.9329\n",
            "Epoch 14/30\n",
            "288000/288000 [==============================] - 212s 735us/sample - loss: 0.7054 - top_k_categorical_accuracy: 0.9475 - val_loss: 0.8610 - val_top_k_categorical_accuracy: 0.9328\n",
            "Epoch 15/30\n",
            "288000/288000 [==============================] - 212s 735us/sample - loss: 0.6940 - top_k_categorical_accuracy: 0.9486 - val_loss: 0.8719 - val_top_k_categorical_accuracy: 0.9321\n",
            "Epoch 16/30\n",
            "288000/288000 [==============================] - 212s 736us/sample - loss: 0.6837 - top_k_categorical_accuracy: 0.9498 - val_loss: 0.8740 - val_top_k_categorical_accuracy: 0.9331\n",
            "Epoch 17/30\n",
            "288000/288000 [==============================] - 212s 736us/sample - loss: 0.6749 - top_k_categorical_accuracy: 0.9503 - val_loss: 0.8607 - val_top_k_categorical_accuracy: 0.9321\n",
            "Epoch 18/30\n",
            "288000/288000 [==============================] - 214s 744us/sample - loss: 0.6647 - top_k_categorical_accuracy: 0.9514 - val_loss: 0.8637 - val_top_k_categorical_accuracy: 0.9324\n",
            "Epoch 19/30\n",
            "288000/288000 [==============================] - 211s 734us/sample - loss: 0.6570 - top_k_categorical_accuracy: 0.9520 - val_loss: 0.8796 - val_top_k_categorical_accuracy: 0.9316\n",
            "Epoch 20/30\n",
            "288000/288000 [==============================] - 212s 735us/sample - loss: 0.6494 - top_k_categorical_accuracy: 0.9526 - val_loss: 0.8702 - val_top_k_categorical_accuracy: 0.9327\n",
            "Epoch 21/30\n",
            "288000/288000 [==============================] - 212s 736us/sample - loss: 0.6425 - top_k_categorical_accuracy: 0.9537 - val_loss: 0.8701 - val_top_k_categorical_accuracy: 0.9332\n",
            "Epoch 22/30\n",
            "288000/288000 [==============================] - 212s 735us/sample - loss: 0.6357 - top_k_categorical_accuracy: 0.9542 - val_loss: 0.8705 - val_top_k_categorical_accuracy: 0.9323\n",
            "Epoch 23/30\n",
            "288000/288000 [==============================] - 212s 737us/sample - loss: 0.6308 - top_k_categorical_accuracy: 0.9544 - val_loss: 0.8852 - val_top_k_categorical_accuracy: 0.9317\n",
            "Epoch 24/30\n",
            "288000/288000 [==============================] - 213s 738us/sample - loss: 0.6231 - top_k_categorical_accuracy: 0.9552 - val_loss: 0.8884 - val_top_k_categorical_accuracy: 0.9325\n",
            "Epoch 25/30\n",
            "288000/288000 [==============================] - 212s 736us/sample - loss: 0.6185 - top_k_categorical_accuracy: 0.9558 - val_loss: 0.8845 - val_top_k_categorical_accuracy: 0.9315\n",
            "Epoch 26/30\n",
            "288000/288000 [==============================] - 212s 735us/sample - loss: 0.6139 - top_k_categorical_accuracy: 0.9561 - val_loss: 0.8798 - val_top_k_categorical_accuracy: 0.9312\n",
            "Epoch 27/30\n",
            "288000/288000 [==============================] - 211s 732us/sample - loss: 0.6088 - top_k_categorical_accuracy: 0.9567 - val_loss: 0.9081 - val_top_k_categorical_accuracy: 0.9302\n",
            "Epoch 28/30\n",
            "288000/288000 [==============================] - 211s 733us/sample - loss: 0.6040 - top_k_categorical_accuracy: 0.9572 - val_loss: 0.8920 - val_top_k_categorical_accuracy: 0.9306\n",
            "Epoch 29/30\n",
            "288000/288000 [==============================] - 211s 732us/sample - loss: 0.6003 - top_k_categorical_accuracy: 0.9578 - val_loss: 0.8901 - val_top_k_categorical_accuracy: 0.9299\n",
            "Epoch 30/30\n",
            "288000/288000 [==============================] - 211s 732us/sample - loss: 0.5963 - top_k_categorical_accuracy: 0.9580 - val_loss: 0.8863 - val_top_k_categorical_accuracy: 0.9311\n"
          ],
          "name": "stdout"
        }
      ]
    },
    {
      "cell_type": "markdown",
      "metadata": {
        "id": "ynaRMeU2ywJe",
        "colab_type": "text"
      },
      "source": [
        "# Plotting Learning Curve"
      ]
    },
    {
      "cell_type": "code",
      "metadata": {
        "id": "RxqAoirfoslM",
        "colab_type": "code",
        "colab": {
          "base_uri": "https://localhost:8080/",
          "height": 573
        },
        "outputId": "4bea52fb-9d33-4be3-b74e-735c86643627"
      },
      "source": [
        "# Plot training & validation accuracy values\n",
        "plt.plot(history.history['top_k_categorical_accuracy'])\n",
        "plt.plot(history.history['val_top_k_categorical_accuracy'])\n",
        "plt.title('Model accuracy')\n",
        "plt.ylabel('Accuracy')\n",
        "plt.xlabel('Epoch')\n",
        "plt.legend(['Train', 'Test'], loc='upper left')\n",
        "plt.show()\n",
        "\n",
        "# Plot training & validation loss values\n",
        "plt.plot(history.history['loss'])\n",
        "plt.plot(history.history['val_loss'])\n",
        "plt.title('Model loss')\n",
        "plt.ylabel('Loss')\n",
        "plt.xlabel('Epoch')\n",
        "plt.legend(['Train', 'Test'], loc='upper left')\n",
        "plt.show()"
      ],
      "execution_count": 26,
      "outputs": [
        {
          "output_type": "display_data",
          "data": {
            "image/png": "[encoded data removed]",
            "text/plain": [
              "<Figure size 432x288 with 1 Axes>"
            ]
          },
          "metadata": {
            "tags": []
          }
        },
        {
          "output_type": "display_data",
          "data": {
            "image/png": "[encoded data removed]",
            "text/plain": [
              "<Figure size 432x288 with 1 Axes>"
            ]
          },
          "metadata": {
            "tags": []
          }
        }
      ]
    },
    {
      "cell_type": "markdown",
      "metadata": {
        "id": "6Mk0mlCgy4MN",
        "colab_type": "text"
      },
      "source": [
        "# Testing"
      ]
    },
    {
      "cell_type": "code",
      "metadata": {
        "id": "C4w4D3qcy1EP",
        "colab_type": "code",
        "colab": {
          "base_uri": "https://localhost:8080/",
          "height": 34
        },
        "outputId": "d25f67ad-e2b9-4bef-b570-5d503e8dc74a"
      },
      "source": [
        "score = model.evaluate(x_test, y_test, verbose=0)\n",
        "print('Test accuarcy: {:0.2f}%'.format(score[1] * 100))"
      ],
      "execution_count": 27,
      "outputs": [
        {
          "output_type": "stream",
          "text": [
            "Test accuarcy: 93.08%\n"
          ],
          "name": "stdout"
        }
      ]
    },
    {
      "cell_type": "markdown",
      "metadata": {
        "id": "pXwjRmuyzEoa",
        "colab_type": "text"
      },
      "source": [
        "# Prototyping with CNN"
      ]
    },
    {
      "cell_type": "markdown",
      "metadata": {
        "id": "CEP7Bg3_zLpx",
        "colab_type": "text"
      },
      "source": [
        "As per the accuracy results, we have decided to go with CNN"
      ]
    },
    {
      "cell_type": "markdown",
      "metadata": {
        "id": "C5F8fO_xzQXl",
        "colab_type": "text"
      },
      "source": [
        "Feeding data to CNN model"
      ]
    },
    {
      "cell_type": "code",
      "metadata": {
        "id": "sk5knwOly_Aq",
        "colab_type": "code",
        "colab": {}
      },
      "source": [
        "def predictDrawing(img):\n",
        "  plt.imshow(img.squeeze()) \n",
        "  pred = model.predict(np.expand_dims(img, axis=0))[0]\n",
        "  ind = (-pred).argsort()[:5]\n",
        "  latex = [class_names[x] for x in ind]\n",
        "  print(latex)"
      ],
      "execution_count": 0,
      "outputs": []
    },
    {
      "cell_type": "code",
      "metadata": {
        "id": "HXECGKhhzW1-",
        "colab_type": "code",
        "colab": {
          "base_uri": "https://localhost:8080/",
          "height": 282
        },
        "outputId": "32a1c31d-ba14-4e0a-b97a-b0aa5edc87f2"
      },
      "source": [
        "idx = randint(0, len(x_test))\n",
        "img = x_test[idx]\n",
        "predictDrawing(img)"
      ],
      "execution_count": 29,
      "outputs": [
        {
          "output_type": "stream",
          "text": [
            "['car', 'frying_pan', 'headphones', 'helmet', 'bird']\n"
          ],
          "name": "stdout"
        },
        {
          "output_type": "display_data",
          "data": {
            "image/png": "[encoded data removed]",
            "text/plain": [
              "<Figure size 432x288 with 1 Axes>"
            ]
          },
          "metadata": {
            "tags": []
          }
        }
      ]
    },
    {
      "cell_type": "code",
      "metadata": {
        "id": "aUhG2G6vzaAT",
        "colab_type": "code",
        "colab": {
          "base_uri": "https://localhost:8080/",
          "height": 282
        },
        "outputId": "dab8307f-0c18-4d69-aa3a-165d5afa5a9a"
      },
      "source": [
        "idx = randint(2, len(x_test))\n",
        "img = x_test[idx]\n",
        "predictDrawing(img)"
      ],
      "execution_count": 30,
      "outputs": [
        {
          "output_type": "stream",
          "text": [
            "['wristwatch', 'frying_pan', 'eyeglasses', 'bird', 'knife']\n"
          ],
          "name": "stdout"
        },
        {
          "output_type": "display_data",
          "data": {
            "image/png": "[encoded data removed]",
            "text/plain": [
              "<Figure size 432x288 with 1 Axes>"
            ]
          },
          "metadata": {
            "tags": []
          }
        }
      ]
    },
    {
      "cell_type": "code",
      "metadata": {
        "id": "Ppzz0tgaCovq",
        "colab_type": "code",
        "colab": {
          "base_uri": "https://localhost:8080/",
          "height": 282
        },
        "outputId": "ca87bedf-5465-4ccf-eba2-c44da0cfd79d"
      },
      "source": [
        "idx = randint(5, len(x_test))\n",
        "img = x_test[idx]\n",
        "predictDrawing(img)"
      ],
      "execution_count": 31,
      "outputs": [
        {
          "output_type": "stream",
          "text": [
            "['cup', 'coffee_cup', 'drums', 'bread', 'helmet']\n"
          ],
          "name": "stdout"
        },
        {
          "output_type": "display_data",
          "data": {
            "image/png": "[encoded data removed]",
            "text/plain": [
              "<Figure size 432x288 with 1 Axes>"
            ]
          },
          "metadata": {
            "tags": []
          }
        }
      ]
    },
    {
      "cell_type": "code",
      "metadata": {
        "id": "tWOH5HkACqlc",
        "colab_type": "code",
        "colab": {}
      },
      "source": [
        ""
      ],
      "execution_count": 0,
      "outputs": []
    }
  ]
}